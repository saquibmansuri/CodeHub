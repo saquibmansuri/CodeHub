# Import required libraries
import requests
import time
import pandas as pd
import matplotlib.pyplot as plt
import json

# Configuration
apim_endpoint = "https://your-apim-url.com/api-load-balancing"
subscription_key = "your-apim-subscription-key"
runs = 10
sleep_time_ms = 200

# Initialize list to store run data
api_runs = []

# Headers for the request
headers = {
    'Content-Type': 'application/json',
    'Ocp-Apim-Subscription-Key': subscription_key
}

# Request body
data = {
    "inputs": "Astronaut riding a horse",
    "parameters": {}
}

# Make requests and collect data
for i in range(runs):
    print(f"\n{'='*50}")
    print(f"🔄 Run: {i+1} / {runs}")
    
    # Make request and measure time
    start_time = time.time()
    response = requests.post(apim_endpoint, headers=headers, json=data)
    response_time = time.time() - start_time
    
    print(f"⏱ {response_time:.2f} seconds")
    print(f"Response status: {response.status_code}")
    print("Response headers:", dict(response.headers))
    
    # Get the backend that handled the request directly from X-Selected-Backend
    backend = response.headers.get('X-Selected-Backend', 'Unknown')
    print(f"Selected Backend: {backend}")
    
    # Store run data with the backend information
    api_runs.append({
        'Run': i + 1,
        'Response Time': response_time,
        'Backend': backend,  # This will be 'Endpoint-1' or 'Endpoint-2'
        'Status': response.status_code
    })
    
    # Sleep between requests
    time.sleep(sleep_time_ms/1000)

# Create DataFrame
df = pd.DataFrame(api_runs)

# Create visualization
plt.figure(figsize=[15, 7])

# Define color map for backends
color_map = {
    'Endpoint-1': '#66b3ff',  # Light blue
    'Endpoint-2': '#99ff99',  # Light green
    'Unknown': '#808080'      # Gray
}

# Create the bar plot
bars = plt.bar(df.index, df['Response Time'], 
               color=[color_map[backend] for backend in df['Backend']])

# Customize plot
plt.title('Load Balancing Results - Hugging Face Endpoints')
plt.xlabel('Run Number')
plt.ylabel('Response Time (seconds)')
plt.xticks(df.index, [f'Run {i+1}\n({backend})' for i, backend in enumerate(df['Backend'])])

# Add legend
legend_elements = [plt.Rectangle((0,0), 1, 1, facecolor=color, label=label) 
                  for label, color in color_map.items() if label in df['Backend'].unique()]
plt.legend(handles=legend_elements)

# Add average line
average = df['Response Time'].mean()
plt.axhline(y=average, color='red', linestyle='--', 
            label=f'Average: {average:.2f}s')
plt.legend()

plt.tight_layout()
plt.show()

# Print summary statistics
print("\nSummary Statistics:")
print("-" * 50)
print(f"Total Requests: {len(df)}")
print(f"Average Response Time: {df['Response Time'].mean():.2f} seconds")
print("\nRequests per Backend:")
print(df['Backend'].value_counts())
print("\nSuccess Rate per Backend:")
for backend in df['Backend'].unique():
    success_rate = len(df[(df['Backend'] == backend) & (df['Status'] == 200)]) / len(df[df['Backend'] == backend]) * 100
    print(f"{backend}: {success_rate:.1f}% success rate")
